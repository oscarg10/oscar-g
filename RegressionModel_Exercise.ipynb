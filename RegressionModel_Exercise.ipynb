{
  "nbformat": 4,
  "nbformat_minor": 0,
  "metadata": {
    "colab": {
      "name": "Untitled0.ipynb",
      "provenance": [],
      "authorship_tag": "ABX9TyP87u7jjP5hykEFrnSsgBK+",
      "include_colab_link": true
    },
    "kernelspec": {
      "name": "python3",
      "display_name": "Python 3"
    }
  },
  "cells": [
    {
      "cell_type": "markdown",
      "metadata": {
        "id": "view-in-github",
        "colab_type": "text"
      },
      "source": [
        "<a href=\"https://colab.research.google.com/github/oscarg10/oscar-g/blob/master/RegressionModel_Exercise.ipynb\" target=\"_parent\"><img src=\"https://colab.research.google.com/assets/colab-badge.svg\" alt=\"Open In Colab\"/></a>"
      ]
    },
    {
      "cell_type": "code",
      "metadata": {
        "id": "Khs4uBzF2YLJ"
      },
      "source": [
        "#Step 1: Import packages and classes\r\n",
        "import numpy as np\r\n",
        "from sklearn.linear_model import LinearRegression"
      ],
      "execution_count": 1,
      "outputs": []
    },
    {
      "cell_type": "code",
      "metadata": {
        "id": "L48KSRFi2gwx"
      },
      "source": [
        "#Step 2: Provide data\r\n",
        "x = np.array([5, 15, 25, 35, 45, 55]).reshape((-1, 1))\r\n",
        "y = np.array([5, 20, 14, 32, 22, 38])"
      ],
      "execution_count": 4,
      "outputs": []
    },
    {
      "cell_type": "code",
      "metadata": {
        "colab": {
          "base_uri": "https://localhost:8080/"
        },
        "id": "R7KRn1Xf3GWM",
        "outputId": "d664b70a-1f15-43dc-eb7e-07efdb3c3ddd"
      },
      "source": [
        "print(x,y)"
      ],
      "execution_count": 7,
      "outputs": [
        {
          "output_type": "stream",
          "text": [
            "[[ 5]\n",
            " [15]\n",
            " [25]\n",
            " [35]\n",
            " [45]\n",
            " [55]] [ 5 20 14 32 22 38]\n"
          ],
          "name": "stdout"
        }
      ]
    },
    {
      "cell_type": "code",
      "metadata": {
        "id": "gM2cSo9D3hFf"
      },
      "source": [
        "#Step 3: Create a model and fit it\r\n",
        "model = LinearRegression().fit(x, y)"
      ],
      "execution_count": 9,
      "outputs": []
    },
    {
      "cell_type": "code",
      "metadata": {
        "colab": {
          "base_uri": "https://localhost:8080/"
        },
        "id": "F2JC6TN74A2z",
        "outputId": "7a97848a-0b5c-4dbb-a690-dd34e8e68f3e"
      },
      "source": [
        "#Step 4: Get results\r\n",
        "r_sq = model.score(x, y)\r\n",
        "print('coefficient of determination:', r_sq)"
      ],
      "execution_count": 11,
      "outputs": [
        {
          "output_type": "stream",
          "text": [
            "coefficient of determination: 0.7158756137479542\n"
          ],
          "name": "stdout"
        }
      ]
    },
    {
      "cell_type": "code",
      "metadata": {
        "colab": {
          "base_uri": "https://localhost:8080/"
        },
        "id": "lo66wiWV4O2w",
        "outputId": "2849f002-21d8-42e4-bb2e-652ec309ffd6"
      },
      "source": [
        "print('intercept:', model.intercept_)\r\n",
        "print('slope:', model.coef_)"
      ],
      "execution_count": 12,
      "outputs": [
        {
          "output_type": "stream",
          "text": [
            "intercept: 5.633333333333329\n",
            "slope: [0.54]\n"
          ],
          "name": "stdout"
        }
      ]
    },
    {
      "cell_type": "code",
      "metadata": {
        "colab": {
          "base_uri": "https://localhost:8080/"
        },
        "id": "5JH7rcxo4wIH",
        "outputId": "fe448fa9-7beb-49f5-c090-eb7e58da9157"
      },
      "source": [
        "new_model = LinearRegression().fit(x, y.reshape((-1, 1)))\r\n",
        "print('intercept:', new_model.intercept_)"
      ],
      "execution_count": 13,
      "outputs": [
        {
          "output_type": "stream",
          "text": [
            "intercept: [5.63333333]\n"
          ],
          "name": "stdout"
        }
      ]
    },
    {
      "cell_type": "code",
      "metadata": {
        "colab": {
          "base_uri": "https://localhost:8080/"
        },
        "id": "E5cDwslR5V-G",
        "outputId": "21998a92-c2cc-40d1-f376-3df0609190a5"
      },
      "source": [
        "print('slope:', new_model.coef_)"
      ],
      "execution_count": 14,
      "outputs": [
        {
          "output_type": "stream",
          "text": [
            "slope: [[0.54]]\n"
          ],
          "name": "stdout"
        }
      ]
    },
    {
      "cell_type": "code",
      "metadata": {
        "colab": {
          "base_uri": "https://localhost:8080/"
        },
        "id": "P7P-2-865Y-b",
        "outputId": "7a09eb2d-9a90-494d-cffd-a816a6f1e8c9"
      },
      "source": [
        "# Step 5: Predict response\r\n",
        "\r\n",
        "y_pred = model.predict(x)\r\n",
        "print('predicted response:', y_pred, sep='\\n')"
      ],
      "execution_count": 15,
      "outputs": [
        {
          "output_type": "stream",
          "text": [
            "predicted response:\n",
            "[ 8.33333333 13.73333333 19.13333333 24.53333333 29.93333333 35.33333333]\n"
          ],
          "name": "stdout"
        }
      ]
    },
    {
      "cell_type": "code",
      "metadata": {
        "colab": {
          "base_uri": "https://localhost:8080/"
        },
        "id": "Ly3qB4ly5in_",
        "outputId": "784c7f60-7acb-49ac-faa3-eb178a0956e5"
      },
      "source": [
        "y_pred = model.intercept_ + model.coef_ * x\r\n",
        "print('predicted response:', y_pred, sep='\\n')"
      ],
      "execution_count": 16,
      "outputs": [
        {
          "output_type": "stream",
          "text": [
            "predicted response:\n",
            "[[ 8.33333333]\n",
            " [13.73333333]\n",
            " [19.13333333]\n",
            " [24.53333333]\n",
            " [29.93333333]\n",
            " [35.33333333]]\n"
          ],
          "name": "stdout"
        }
      ]
    },
    {
      "cell_type": "code",
      "metadata": {
        "colab": {
          "base_uri": "https://localhost:8080/"
        },
        "id": "X-gooDou6FGA",
        "outputId": "3edc45b9-e87e-4a8b-9e30-b0d890a0b0ba"
      },
      "source": [
        "x_new = np.arange(5).reshape((-1, 1))\r\n",
        "print(x_new)"
      ],
      "execution_count": 17,
      "outputs": [
        {
          "output_type": "stream",
          "text": [
            "[[0]\n",
            " [1]\n",
            " [2]\n",
            " [3]\n",
            " [4]]\n"
          ],
          "name": "stdout"
        }
      ]
    },
    {
      "cell_type": "code",
      "metadata": {
        "colab": {
          "base_uri": "https://localhost:8080/"
        },
        "id": "7LRey2fg6UlJ",
        "outputId": "c57eaccd-6fd3-4669-fa7d-4606ffa19e69"
      },
      "source": [
        "y_new = model.predict(x_new)\r\n",
        "print(y_new)"
      ],
      "execution_count": 19,
      "outputs": [
        {
          "output_type": "stream",
          "text": [
            "[5.63333333 6.17333333 6.71333333 7.25333333 7.79333333]\n"
          ],
          "name": "stdout"
        }
      ]
    },
    {
      "cell_type": "code",
      "metadata": {
        "id": "LvAq3W3_6YU0"
      },
      "source": [
        ""
      ],
      "execution_count": null,
      "outputs": []
    }
  ]
}