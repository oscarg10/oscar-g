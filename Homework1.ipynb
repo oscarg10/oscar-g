{
  "nbformat": 4,
  "nbformat_minor": 0,
  "metadata": {
    "colab": {
      "name": "Homework1.ipynb",
      "provenance": [],
      "authorship_tag": "ABX9TyPwzWpsRocwmr/Gdz60bxD9",
      "include_colab_link": true
    },
    "kernelspec": {
      "name": "python3",
      "display_name": "Python 3"
    }
  },
  "cells": [
    {
      "cell_type": "markdown",
      "metadata": {
        "id": "view-in-github",
        "colab_type": "text"
      },
      "source": [
        "<a href=\"https://colab.research.google.com/github/oscarg10/oscar-g/blob/master/Homework1.ipynb\" target=\"_parent\"><img src=\"https://colab.research.google.com/assets/colab-badge.svg\" alt=\"Open In Colab\"/></a>"
      ]
    },
    {
      "cell_type": "markdown",
      "metadata": {
        "id": "zn7HmOpy84EU"
      },
      "source": [
        "# Linear Regression "
      ]
    },
    {
      "cell_type": "code",
      "metadata": {
        "id": "Khs4uBzF2YLJ"
      },
      "source": [
        "#Step 1: Import packages and classes\r\n",
        "import numpy as np\r\n",
        "from sklearn.linear_model import LinearRegression"
      ],
      "execution_count": 1,
      "outputs": []
    },
    {
      "cell_type": "code",
      "metadata": {
        "id": "L48KSRFi2gwx"
      },
      "source": [
        "#Step 2: Provide data\r\n",
        "x = np.array([5, 15, 25, 35, 45, 55]).reshape((-1, 1))\r\n",
        "y = np.array([5, 20, 14, 32, 22, 38])"
      ],
      "execution_count": 4,
      "outputs": []
    },
    {
      "cell_type": "code",
      "metadata": {
        "colab": {
          "base_uri": "https://localhost:8080/"
        },
        "id": "R7KRn1Xf3GWM",
        "outputId": "d664b70a-1f15-43dc-eb7e-07efdb3c3ddd"
      },
      "source": [
        "print(x,y)"
      ],
      "execution_count": 7,
      "outputs": [
        {
          "output_type": "stream",
          "text": [
            "[[ 5]\n",
            " [15]\n",
            " [25]\n",
            " [35]\n",
            " [45]\n",
            " [55]] [ 5 20 14 32 22 38]\n"
          ],
          "name": "stdout"
        }
      ]
    },
    {
      "cell_type": "code",
      "metadata": {
        "id": "gM2cSo9D3hFf"
      },
      "source": [
        "#Step 3: Create a model and fit it\r\n",
        "model = LinearRegression().fit(x, y)"
      ],
      "execution_count": 9,
      "outputs": []
    },
    {
      "cell_type": "code",
      "metadata": {
        "colab": {
          "base_uri": "https://localhost:8080/"
        },
        "id": "F2JC6TN74A2z",
        "outputId": "7a97848a-0b5c-4dbb-a690-dd34e8e68f3e"
      },
      "source": [
        "#Step 4: Get results\r\n",
        "r_sq = model.score(x, y)\r\n",
        "print('coefficient of determination:', r_sq)"
      ],
      "execution_count": 11,
      "outputs": [
        {
          "output_type": "stream",
          "text": [
            "coefficient of determination: 0.7158756137479542\n"
          ],
          "name": "stdout"
        }
      ]
    },
    {
      "cell_type": "code",
      "metadata": {
        "colab": {
          "base_uri": "https://localhost:8080/"
        },
        "id": "lo66wiWV4O2w",
        "outputId": "2849f002-21d8-42e4-bb2e-652ec309ffd6"
      },
      "source": [
        "print('intercept:', model.intercept_)\r\n",
        "print('slope:', model.coef_)"
      ],
      "execution_count": 12,
      "outputs": [
        {
          "output_type": "stream",
          "text": [
            "intercept: 5.633333333333329\n",
            "slope: [0.54]\n"
          ],
          "name": "stdout"
        }
      ]
    },
    {
      "cell_type": "code",
      "metadata": {
        "colab": {
          "base_uri": "https://localhost:8080/"
        },
        "id": "5JH7rcxo4wIH",
        "outputId": "fe448fa9-7beb-49f5-c090-eb7e58da9157"
      },
      "source": [
        "new_model = LinearRegression().fit(x, y.reshape((-1, 1)))\r\n",
        "print('intercept:', new_model.intercept_)"
      ],
      "execution_count": 13,
      "outputs": [
        {
          "output_type": "stream",
          "text": [
            "intercept: [5.63333333]\n"
          ],
          "name": "stdout"
        }
      ]
    },
    {
      "cell_type": "code",
      "metadata": {
        "colab": {
          "base_uri": "https://localhost:8080/"
        },
        "id": "E5cDwslR5V-G",
        "outputId": "21998a92-c2cc-40d1-f376-3df0609190a5"
      },
      "source": [
        "print('slope:', new_model.coef_)"
      ],
      "execution_count": 14,
      "outputs": [
        {
          "output_type": "stream",
          "text": [
            "slope: [[0.54]]\n"
          ],
          "name": "stdout"
        }
      ]
    },
    {
      "cell_type": "code",
      "metadata": {
        "colab": {
          "base_uri": "https://localhost:8080/"
        },
        "id": "P7P-2-865Y-b",
        "outputId": "7a09eb2d-9a90-494d-cffd-a816a6f1e8c9"
      },
      "source": [
        "# Step 5: Predict response\r\n",
        "\r\n",
        "y_pred = model.predict(x)\r\n",
        "print('predicted response:', y_pred, sep='\\n')"
      ],
      "execution_count": 15,
      "outputs": [
        {
          "output_type": "stream",
          "text": [
            "predicted response:\n",
            "[ 8.33333333 13.73333333 19.13333333 24.53333333 29.93333333 35.33333333]\n"
          ],
          "name": "stdout"
        }
      ]
    },
    {
      "cell_type": "code",
      "metadata": {
        "colab": {
          "base_uri": "https://localhost:8080/"
        },
        "id": "Ly3qB4ly5in_",
        "outputId": "784c7f60-7acb-49ac-faa3-eb178a0956e5"
      },
      "source": [
        "y_pred = model.intercept_ + model.coef_ * x\r\n",
        "print('predicted response:', y_pred, sep='\\n')"
      ],
      "execution_count": 16,
      "outputs": [
        {
          "output_type": "stream",
          "text": [
            "predicted response:\n",
            "[[ 8.33333333]\n",
            " [13.73333333]\n",
            " [19.13333333]\n",
            " [24.53333333]\n",
            " [29.93333333]\n",
            " [35.33333333]]\n"
          ],
          "name": "stdout"
        }
      ]
    },
    {
      "cell_type": "code",
      "metadata": {
        "colab": {
          "base_uri": "https://localhost:8080/"
        },
        "id": "X-gooDou6FGA",
        "outputId": "3edc45b9-e87e-4a8b-9e30-b0d890a0b0ba"
      },
      "source": [
        "x_new = np.arange(5).reshape((-1, 1))\r\n",
        "print(x_new)"
      ],
      "execution_count": 17,
      "outputs": [
        {
          "output_type": "stream",
          "text": [
            "[[0]\n",
            " [1]\n",
            " [2]\n",
            " [3]\n",
            " [4]]\n"
          ],
          "name": "stdout"
        }
      ]
    },
    {
      "cell_type": "code",
      "metadata": {
        "id": "gSmdTubp8257"
      },
      "source": [
        ""
      ],
      "execution_count": null,
      "outputs": []
    },
    {
      "cell_type": "code",
      "metadata": {
        "colab": {
          "base_uri": "https://localhost:8080/"
        },
        "id": "7LRey2fg6UlJ",
        "outputId": "c57eaccd-6fd3-4669-fa7d-4606ffa19e69"
      },
      "source": [
        "y_new = model.predict(x_new)\r\n",
        "print(y_new)"
      ],
      "execution_count": 19,
      "outputs": [
        {
          "output_type": "stream",
          "text": [
            "[5.63333333 6.17333333 6.71333333 7.25333333 7.79333333]\n"
          ],
          "name": "stdout"
        }
      ]
    },
    {
      "cell_type": "markdown",
      "metadata": {
        "id": "VyqCkFS98woS"
      },
      "source": [
        "# Multiple Linear Regression"
      ]
    },
    {
      "cell_type": "code",
      "metadata": {
        "colab": {
          "base_uri": "https://localhost:8080/"
        },
        "id": "LvAq3W3_6YU0",
        "outputId": "bc180c5a-de77-49f2-f706-be7d15a075eb"
      },
      "source": [
        "#Steps 1 and 2: Import packages and classes, and provide data\r\n",
        "\r\n",
        "x = [[0, 1], [5, 1], [15, 2], [25, 5], [35, 11], [45, 15], [55, 34], [60, 35]]\r\n",
        "y = [4, 5, 20, 14, 32, 22, 38, 43]\r\n",
        "x, y = np.array(x), np.array(y)\r\n",
        "\r\n",
        "print(x,y)"
      ],
      "execution_count": 21,
      "outputs": [
        {
          "output_type": "stream",
          "text": [
            "[[ 0  1]\n",
            " [ 5  1]\n",
            " [15  2]\n",
            " [25  5]\n",
            " [35 11]\n",
            " [45 15]\n",
            " [55 34]\n",
            " [60 35]] [ 4  5 20 14 32 22 38 43]\n"
          ],
          "name": "stdout"
        }
      ]
    },
    {
      "cell_type": "code",
      "metadata": {
        "id": "FjWAM95V72Tr"
      },
      "source": [
        "# Step 3: Create a model and fit it\r\n",
        "model = LinearRegression().fit(x, y)"
      ],
      "execution_count": 22,
      "outputs": []
    },
    {
      "cell_type": "code",
      "metadata": {
        "colab": {
          "base_uri": "https://localhost:8080/"
        },
        "id": "0oUAwpG98IhF",
        "outputId": "a58ffa6a-a781-4b52-f24d-1b11246015fd"
      },
      "source": [
        "# Step 4: Get results\r\n",
        "r_sq = model.score(x, y)\r\n",
        "\r\n",
        "print('coefficient of determination:', r_sq)\r\n",
        "print('intercept:', model.intercept_)\r\n",
        "print('slope:', model.coef_)"
      ],
      "execution_count": 23,
      "outputs": [
        {
          "output_type": "stream",
          "text": [
            "coefficient of determination: 0.8615939258756776\n",
            "intercept: 5.52257927519819\n",
            "slope: [0.44706965 0.25502548]\n"
          ],
          "name": "stdout"
        }
      ]
    },
    {
      "cell_type": "code",
      "metadata": {
        "colab": {
          "base_uri": "https://localhost:8080/"
        },
        "id": "UuSGkWMy8fEY",
        "outputId": "9255fb72-de19-4e9e-b1fb-0fbc29cfee7e"
      },
      "source": [
        "#Step 5: Predict response\r\n",
        "y_pred = model.predict(x)\r\n",
        "print('predicted response:', y_pred, sep='\\n')\r\n",
        "\r\n",
        "x_new = np.arange(10).reshape((-1, 2))\r\n",
        "print(x_new)"
      ],
      "execution_count": 26,
      "outputs": [
        {
          "output_type": "stream",
          "text": [
            "predicted response:\n",
            "[ 5.77760476  8.012953   12.73867497 17.9744479  23.97529728 29.4660957\n",
            " 38.78227633 41.27265006]\n",
            "[[0 1]\n",
            " [2 3]\n",
            " [4 5]\n",
            " [6 7]\n",
            " [8 9]]\n"
          ],
          "name": "stdout"
        }
      ]
    },
    {
      "cell_type": "code",
      "metadata": {
        "colab": {
          "base_uri": "https://localhost:8080/"
        },
        "id": "wp-zVDES8q_J",
        "outputId": "7c97eff9-d07b-4132-94e6-2b33c4594c88"
      },
      "source": [
        "y_new = model.predict(x_new)\r\n",
        ">>> print(y_new)"
      ],
      "execution_count": 27,
      "outputs": [
        {
          "output_type": "stream",
          "text": [
            "[ 5.77760476  7.18179502  8.58598528  9.99017554 11.3943658 ]\n"
          ],
          "name": "stdout"
        }
      ]
    },
    {
      "cell_type": "markdown",
      "metadata": {
        "id": "r0peMUJZ-X4a"
      },
      "source": [
        "# Logistic Regression "
      ]
    },
    {
      "cell_type": "code",
      "metadata": {
        "id": "f_i0G4vD-a3S"
      },
      "source": [
        "# Step 1: Import Packages, Functions, and Classes\r\n",
        "import matplotlib.pyplot as plt\r\n",
        "from sklearn.linear_model import LogisticRegression\r\n",
        "from sklearn.metrics import classification_report, confusion_matrix"
      ],
      "execution_count": 40,
      "outputs": []
    },
    {
      "cell_type": "code",
      "metadata": {
        "colab": {
          "base_uri": "https://localhost:8080/"
        },
        "id": "pbiEy6oM-od8",
        "outputId": "70f80be1-bc7c-48cd-a2a4-fe37196676fd"
      },
      "source": [
        "#Step 2: Get Data\r\n",
        "x = np.arange(10).reshape(-1, 1)\r\n",
        "y = np.array([0, 0, 0, 0, 1, 1, 1, 1, 1, 1])\r\n",
        "\r\n",
        "x,y"
      ],
      "execution_count": 42,
      "outputs": [
        {
          "output_type": "execute_result",
          "data": {
            "text/plain": [
              "(array([[0],\n",
              "        [1],\n",
              "        [2],\n",
              "        [3],\n",
              "        [4],\n",
              "        [5],\n",
              "        [6],\n",
              "        [7],\n",
              "        [8],\n",
              "        [9]]), array([0, 0, 0, 0, 1, 1, 1, 1, 1, 1]))"
            ]
          },
          "metadata": {
            "tags": []
          },
          "execution_count": 42
        }
      ]
    },
    {
      "cell_type": "code",
      "metadata": {
        "colab": {
          "base_uri": "https://localhost:8080/"
        },
        "id": "rrRebzPD-9nQ",
        "outputId": "0686ebd6-f0e0-430a-de32-aac87fbff9c6"
      },
      "source": [
        "#Step 3: Create a Model and Train It\r\n",
        "\r\n",
        "model = LogisticRegression(solver='liblinear', random_state=0)\r\n",
        "model.fit(x, y)\r\n"
      ],
      "execution_count": 43,
      "outputs": [
        {
          "output_type": "execute_result",
          "data": {
            "text/plain": [
              "LogisticRegression(C=1.0, class_weight=None, dual=False, fit_intercept=True,\n",
              "                   intercept_scaling=1, l1_ratio=None, max_iter=100,\n",
              "                   multi_class='auto', n_jobs=None, penalty='l2',\n",
              "                   random_state=0, solver='liblinear', tol=0.0001, verbose=0,\n",
              "                   warm_start=False)"
            ]
          },
          "metadata": {
            "tags": []
          },
          "execution_count": 43
        }
      ]
    },
    {
      "cell_type": "code",
      "metadata": {
        "colab": {
          "base_uri": "https://localhost:8080/"
        },
        "id": "nhe1d67v_WzU",
        "outputId": "4a355f99-5db2-436e-d0c1-cd53275deef0"
      },
      "source": [
        "model = LogisticRegression(solver='liblinear', random_state=0).fit(x, y)\r\n",
        "model.classes_"
      ],
      "execution_count": 44,
      "outputs": [
        {
          "output_type": "execute_result",
          "data": {
            "text/plain": [
              "array([0, 1])"
            ]
          },
          "metadata": {
            "tags": []
          },
          "execution_count": 44
        }
      ]
    },
    {
      "cell_type": "code",
      "metadata": {
        "colab": {
          "base_uri": "https://localhost:8080/"
        },
        "id": "zbUcK3Ar_oVr",
        "outputId": "c2e3cc13-f9d5-4611-fd28-49c64046ff1f"
      },
      "source": [
        "#finding intercept and slope\r\n",
        "\r\n",
        "model.intercept_\r\n",
        "model.coef_"
      ],
      "execution_count": 45,
      "outputs": [
        {
          "output_type": "execute_result",
          "data": {
            "text/plain": [
              "array([[0.51491375]])"
            ]
          },
          "metadata": {
            "tags": []
          },
          "execution_count": 45
        }
      ]
    },
    {
      "cell_type": "code",
      "metadata": {
        "colab": {
          "base_uri": "https://localhost:8080/"
        },
        "id": "tDAyASQm_3ci",
        "outputId": "febf6a00-d4a1-4554-d991-30a8842607a5"
      },
      "source": [
        "# Evaluate the model \r\n",
        "\r\n",
        "model.predict_proba(x)"
      ],
      "execution_count": 47,
      "outputs": [
        {
          "output_type": "execute_result",
          "data": {
            "text/plain": [
              "array([[0.74002157, 0.25997843],\n",
              "       [0.62975524, 0.37024476],\n",
              "       [0.5040632 , 0.4959368 ],\n",
              "       [0.37785549, 0.62214451],\n",
              "       [0.26628093, 0.73371907],\n",
              "       [0.17821501, 0.82178499],\n",
              "       [0.11472079, 0.88527921],\n",
              "       [0.07186982, 0.92813018],\n",
              "       [0.04422513, 0.95577487],\n",
              "       [0.02690569, 0.97309431]])"
            ]
          },
          "metadata": {
            "tags": []
          },
          "execution_count": 47
        }
      ]
    },
    {
      "cell_type": "code",
      "metadata": {
        "colab": {
          "base_uri": "https://localhost:8080/"
        },
        "id": "2JoEMSgk_8FU",
        "outputId": "2d870037-33ed-42d0-c406-255c5c10fa07"
      },
      "source": [
        "model.predict(x)\r\n"
      ],
      "execution_count": 48,
      "outputs": [
        {
          "output_type": "execute_result",
          "data": {
            "text/plain": [
              "array([0, 0, 0, 1, 1, 1, 1, 1, 1, 1])"
            ]
          },
          "metadata": {
            "tags": []
          },
          "execution_count": 48
        }
      ]
    },
    {
      "cell_type": "code",
      "metadata": {
        "colab": {
          "base_uri": "https://localhost:8080/"
        },
        "id": "ae8_JEPiAH5p",
        "outputId": "5fae84a6-2b69-4432-ab39-9f764acce99e"
      },
      "source": [
        "confusion_matrix(y, model.predict(x))"
      ],
      "execution_count": 50,
      "outputs": [
        {
          "output_type": "execute_result",
          "data": {
            "text/plain": [
              "array([[3, 1],\n",
              "       [0, 6]])"
            ]
          },
          "metadata": {
            "tags": []
          },
          "execution_count": 50
        }
      ]
    },
    {
      "cell_type": "code",
      "metadata": {
        "colab": {
          "base_uri": "https://localhost:8080/"
        },
        "id": "-435DkQeBV9Y",
        "outputId": "62efccd8-60fe-4688-bb3b-28a7a566e0e6"
      },
      "source": [
        "print(classification_report(y, model.predict(x)))"
      ],
      "execution_count": 51,
      "outputs": [
        {
          "output_type": "stream",
          "text": [
            "              precision    recall  f1-score   support\n",
            "\n",
            "           0       1.00      0.75      0.86         4\n",
            "           1       0.86      1.00      0.92         6\n",
            "\n",
            "    accuracy                           0.90        10\n",
            "   macro avg       0.93      0.88      0.89        10\n",
            "weighted avg       0.91      0.90      0.90        10\n",
            "\n"
          ],
          "name": "stdout"
        }
      ]
    }
  ]
}